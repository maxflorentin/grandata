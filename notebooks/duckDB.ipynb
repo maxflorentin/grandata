{
 "cells": [
  {
   "cell_type": "code",
   "execution_count": 3,
   "id": "c71828f4-07bc-4f11-8470-3d9567f8514a",
   "metadata": {},
   "outputs": [
    {
     "name": "stdout",
     "output_type": "stream",
     "text": [
      "Collecting duckdb\n",
      "  Downloading duckdb-1.0.0-cp311-cp311-manylinux_2_24_aarch64.manylinux_2_28_aarch64.whl.metadata (762 bytes)\n",
      "Downloading duckdb-1.0.0-cp311-cp311-manylinux_2_24_aarch64.manylinux_2_28_aarch64.whl (16.7 MB)\n",
      "\u001b[2K   \u001b[90m━━━━━━━━━━━━━━━━━━━━━━━━━━━━━━━━━━━━━━━━\u001b[0m \u001b[32m16.7/16.7 MB\u001b[0m \u001b[31m37.7 MB/s\u001b[0m eta \u001b[36m0:00:00\u001b[0m00:01\u001b[0m00:01\u001b[0m\n",
      "\u001b[?25hInstalling collected packages: duckdb\n",
      "Successfully installed duckdb-1.0.0\n"
     ]
    }
   ],
   "source": [
    "!pip3 install duckdb"
   ]
  },
  {
   "cell_type": "code",
   "execution_count": 11,
   "id": "9994d0d1-c3a5-4921-98e2-48f44425fdad",
   "metadata": {},
   "outputs": [
    {
     "name": "stdout",
     "output_type": "stream",
     "text": [
      "[(Decimal('18998.0'),)]\n"
     ]
    }
   ],
   "source": [
    "import duckdb\n",
    "\n",
    "con = duckdb.connect(':memory:')\n",
    "\n",
    "sql_script = \"\"\"\n",
    "CREATE TABLE gd_events AS\n",
    "SELECT * FROM read_csv_auto('/home/jovyan/extracted_files/test_grandata_data_engineer/events.csv');\n",
    "\n",
    "CREATE TABLE free_sms_destinations AS\n",
    "SELECT id \n",
    "FROM read_csv_auto('/home/jovyan/extracted_files/test_grandata_data_engineer/free_sms_destinations.csv');\n",
    "\n",
    "CREATE TABLE filtered_events AS\n",
    "SELECT \n",
    "    id_source,\n",
    "    id_destination,\n",
    "    CAST(calls AS INTEGER) AS calls,\n",
    "    CAST(seconds AS INTEGER) AS seconds,\n",
    "    CAST(sms AS INTEGER) AS sms,\n",
    "    CAST(region AS INTEGER) AS region\n",
    "FROM \n",
    "    gd_events\n",
    "WHERE \n",
    "    id_source IS NOT NULL AND id_destination IS NOT NULL;\n",
    "\n",
    "WITH billing AS (\n",
    "    SELECT \n",
    "        e.*,\n",
    "        f.id AS free_sms_id,\n",
    "        CASE\n",
    "            WHEN f.id IS NULL THEN sms * 0.0\n",
    "            WHEN region BETWEEN 1 AND 5 THEN sms * 1.5\n",
    "            ELSE sms * 2.0\n",
    "        END AS billing_amount\n",
    "    FROM \n",
    "        filtered_events e\n",
    "    LEFT JOIN \n",
    "        free_sms_destinations f \n",
    "    ON \n",
    "        e.id_destination = f.id\n",
    ")\n",
    "SELECT \n",
    "    SUM(billing_amount) AS total_billing_amount\n",
    "FROM \n",
    "    billing;\n",
    "\"\"\"\n",
    "\n",
    "con.execute(sql_script)\n",
    "\n",
    "result = con.execute(\"\"\"\n",
    "WITH billing AS (\n",
    "    SELECT \n",
    "        e.*,\n",
    "        f.id AS free_sms_id,\n",
    "        CASE\n",
    "            WHEN f.id IS NULL THEN sms * 0.0\n",
    "            WHEN region BETWEEN 1 AND 5 THEN sms * 1.5\n",
    "            ELSE sms * 2.0\n",
    "        END AS billing_amount\n",
    "    FROM \n",
    "        filtered_events e\n",
    "    LEFT JOIN \n",
    "        free_sms_destinations f \n",
    "    ON \n",
    "        e.id_destination = f.id\n",
    ")\n",
    "SELECT \n",
    "    SUM(billing_amount) AS total_billing_amount\n",
    "FROM \n",
    "    billing;\n",
    "\"\"\").fetchall()\n",
    "\n",
    "print(result)"
   ]
  },
  {
   "cell_type": "code",
   "execution_count": 14,
   "id": "5bf3b6fd-1d42-427e-876d-c7fd14867a5b",
   "metadata": {},
   "outputs": [
    {
     "name": "stdout",
     "output_type": "stream",
     "text": [
      "File saved as: /home/jovyan/extracted_files/top_100_users_billing.parquet\n"
     ]
    }
   ],
   "source": [
    "import duckdb\n",
    "from pyspark.sql.functions import md5\n",
    "import pandas as pd\n",
    "\n",
    "con = duckdb.connect(':memory:')\n",
    "\n",
    "sql_script = \"\"\"\n",
    "CREATE TABLE gd_events AS\n",
    "SELECT * FROM read_csv_auto('/home/jovyan/extracted_files/test_grandata_data_engineer/events.csv');\n",
    "\n",
    "CREATE TABLE free_sms_destinations AS\n",
    "SELECT id \n",
    "FROM read_csv_auto('/home/jovyan/extracted_files/test_grandata_data_engineer/free_sms_destinations.csv');\n",
    "\n",
    "CREATE TABLE filtered_events AS\n",
    "SELECT \n",
    "    id_source,\n",
    "    id_destination,\n",
    "    CAST(calls AS INTEGER) AS calls,\n",
    "    CAST(seconds AS INTEGER) AS seconds,\n",
    "    CAST(sms AS INTEGER) AS sms,\n",
    "    CAST(region AS INTEGER) AS region\n",
    "FROM \n",
    "    gd_events\n",
    "WHERE \n",
    "    id_source IS NOT NULL AND id_destination IS NOT NULL;\n",
    "\n",
    "CREATE TABLE billing_events AS\n",
    "SELECT \n",
    "    e.*,\n",
    "    f.id AS free_sms_id,\n",
    "    CASE\n",
    "        WHEN f.id IS NOT NULL THEN sms * 0.0\n",
    "        WHEN region BETWEEN 1 AND 5 THEN sms * 1.5\n",
    "        ELSE sms * 2.0\n",
    "    END AS billing_amount\n",
    "FROM \n",
    "    filtered_events e\n",
    "LEFT JOIN \n",
    "    free_sms_destinations f \n",
    "ON \n",
    "    e.id_destination = f.id;\n",
    "\n",
    "CREATE TABLE top_100_users_billing AS\n",
    "SELECT \n",
    "    id_source,\n",
    "    SUM(billing_amount) AS total_billing_amount\n",
    "FROM \n",
    "    billing_events\n",
    "GROUP BY \n",
    "    id_source\n",
    "ORDER BY \n",
    "    total_billing_amount DESC\n",
    "LIMIT 100;\n",
    "\"\"\"\n",
    "\n",
    "con.execute(sql_script)\n",
    "\n",
    "top_100_users_billing = con.execute(\"SELECT *, md5(id_source) AS id_hashed FROM top_100_users_billing\").fetchdf()\n",
    "\n",
    "output_path = '/home/jovyan/extracted_files/top_100_users_billing.parquet'\n",
    "top_100_users_billing.to_parquet(output_path, compression='gzip', index=False)\n",
    "\n",
    "print(\"File saved as:\", output_path)"
   ]
  },
  {
   "cell_type": "code",
   "execution_count": null,
   "id": "547b908b-9de2-4a05-9a87-dc1856a37c84",
   "metadata": {},
   "outputs": [],
   "source": []
  }
 ],
 "metadata": {
  "kernelspec": {
   "display_name": "Python 3 (ipykernel)",
   "language": "python",
   "name": "python3"
  },
  "language_info": {
   "codemirror_mode": {
    "name": "ipython",
    "version": 3
   },
   "file_extension": ".py",
   "mimetype": "text/x-python",
   "name": "python",
   "nbconvert_exporter": "python",
   "pygments_lexer": "ipython3",
   "version": "3.11.6"
  }
 },
 "nbformat": 4,
 "nbformat_minor": 5
}
